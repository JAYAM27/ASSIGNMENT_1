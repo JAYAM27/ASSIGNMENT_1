{
  "nbformat": 4,
  "nbformat_minor": 0,
  "metadata": {
    "colab": {
      "name": "ASSIGNMENT 2",
      "provenance": [],
      "authorship_tag": "ABX9TyPMuSb3Mz0P81wf2pati3xv",
      "include_colab_link": true
    },
    "kernelspec": {
      "name": "python3",
      "display_name": "Python 3"
    },
    "language_info": {
      "name": "python"
    }
  },
  "cells": [
    {
      "cell_type": "markdown",
      "metadata": {
        "id": "view-in-github",
        "colab_type": "text"
      },
      "source": [
        "<a href=\"https://colab.research.google.com/github/JAYAM27/ASSIGNMENT_1/blob/main/ASSIGNMENT_2.ipynb\" target=\"_parent\"><img src=\"https://colab.research.google.com/assets/colab-badge.svg\" alt=\"Open In Colab\"/></a>"
      ]
    },
    {
      "cell_type": "code",
      "execution_count": null,
      "metadata": {
        "id": "2jMAHz5VrIQ4"
      },
      "outputs": [],
      "source": [
        "# Write a function compute_dist() that accepts a list of values as input and outputs a dictionary #\n",
        "#storing the distribution of the data represented by the list. Here, distribution means tracking how\n",
        "#many times each element is appearing in the given list."
      ]
    },
    {
      "cell_type": "code",
      "source": [
        "def counter(A):\n",
        "  S=sorted(set(A))\n",
        "  D={}\n",
        "  for i in S:\n",
        "    D.update({i:A.count(i)})\n",
        "  return D\n",
        "counter([3,4,2,1,5,1,2,4,3,4])"
      ],
      "metadata": {
        "colab": {
          "base_uri": "https://localhost:8080/"
        },
        "id": "iBVLty7grdn-",
        "outputId": "93b97a8a-28b6-4caf-d9f8-bcfa9e5c0b51"
      },
      "execution_count": null,
      "outputs": [
        {
          "output_type": "execute_result",
          "data": {
            "text/plain": [
              "{1: 2, 2: 2, 3: 2, 4: 3, 5: 1}"
            ]
          },
          "metadata": {},
          "execution_count": 11
        }
      ]
    },
    {
      "cell_type": "code",
      "source": [],
      "metadata": {
        "id": "CUR9Nmyv2JB9"
      },
      "execution_count": null,
      "outputs": []
    }
  ]
}